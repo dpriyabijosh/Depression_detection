{
  "nbformat": 4,
  "nbformat_minor": 0,
  "metadata": {
    "colab": {
      "provenance": [],
      "include_colab_link": true
    },
    "kernelspec": {
      "name": "python3",
      "display_name": "Python 3"
    },
    "accelerator": "GPU",
    "gpuClass": "standard"
  },
  "cells": [
    {
      "cell_type": "markdown",
      "metadata": {
        "id": "view-in-github",
        "colab_type": "text"
      },
      "source": [
        "<a href=\"https://colab.research.google.com/github/dpriyabijosh/Depression_detection/blob/main/BiLSTM_Word2vec_Case1.ipynb\" target=\"_parent\"><img src=\"https://colab.research.google.com/assets/colab-badge.svg\" alt=\"Open In Colab\"/></a>"
      ]
    },
    {
      "cell_type": "markdown",
      "metadata": {
        "id": "M2D_810Uruqe"
      },
      "source": [
        "# A - Introduction"
      ]
    },
    {
      "cell_type": "markdown",
      "metadata": {
        "id": "31OW0dhozvli"
      },
      "source": [
        "## 1. Load Essential Libraries"
      ]
    },
    {
      "cell_type": "code",
      "source": [
        "!pip install tensorflow\n",
        "!pip install import-ipynb\n",
        "!pip install nltk"
      ],
      "metadata": {
        "colab": {
          "base_uri": "https://localhost:8080/"
        },
        "id": "Ob6GI-FW0OtS",
        "outputId": "57a23ceb-433b-41cc-c914-730563cba52d"
      },
      "execution_count": null,
      "outputs": [
        {
          "output_type": "stream",
          "name": "stdout",
          "text": [
            "Looking in indexes: https://pypi.org/simple, https://us-python.pkg.dev/colab-wheels/public/simple/\n",
            "Requirement already satisfied: tensorflow in /usr/local/lib/python3.8/dist-packages (2.9.2)\n",
            "Requirement already satisfied: grpcio<2.0,>=1.24.3 in /usr/local/lib/python3.8/dist-packages (from tensorflow) (1.51.1)\n",
            "Requirement already satisfied: opt-einsum>=2.3.2 in /usr/local/lib/python3.8/dist-packages (from tensorflow) (3.3.0)\n",
            "Requirement already satisfied: absl-py>=1.0.0 in /usr/local/lib/python3.8/dist-packages (from tensorflow) (1.3.0)\n",
            "Requirement already satisfied: gast<=0.4.0,>=0.2.1 in /usr/local/lib/python3.8/dist-packages (from tensorflow) (0.4.0)\n",
            "Requirement already satisfied: protobuf<3.20,>=3.9.2 in /usr/local/lib/python3.8/dist-packages (from tensorflow) (3.19.6)\n",
            "Requirement already satisfied: numpy>=1.20 in /usr/local/lib/python3.8/dist-packages (from tensorflow) (1.21.6)\n",
            "Requirement already satisfied: keras<2.10.0,>=2.9.0rc0 in /usr/local/lib/python3.8/dist-packages (from tensorflow) (2.9.0)\n",
            "Requirement already satisfied: libclang>=13.0.0 in /usr/local/lib/python3.8/dist-packages (from tensorflow) (14.0.6)\n",
            "Requirement already satisfied: wrapt>=1.11.0 in /usr/local/lib/python3.8/dist-packages (from tensorflow) (1.14.1)\n",
            "Requirement already satisfied: h5py>=2.9.0 in /usr/local/lib/python3.8/dist-packages (from tensorflow) (3.1.0)\n",
            "Requirement already satisfied: tensorflow-io-gcs-filesystem>=0.23.1 in /usr/local/lib/python3.8/dist-packages (from tensorflow) (0.28.0)\n",
            "Requirement already satisfied: setuptools in /usr/local/lib/python3.8/dist-packages (from tensorflow) (57.4.0)\n",
            "Requirement already satisfied: packaging in /usr/local/lib/python3.8/dist-packages (from tensorflow) (21.3)\n",
            "Requirement already satisfied: astunparse>=1.6.0 in /usr/local/lib/python3.8/dist-packages (from tensorflow) (1.6.3)\n",
            "Requirement already satisfied: tensorflow-estimator<2.10.0,>=2.9.0rc0 in /usr/local/lib/python3.8/dist-packages (from tensorflow) (2.9.0)\n",
            "Requirement already satisfied: termcolor>=1.1.0 in /usr/local/lib/python3.8/dist-packages (from tensorflow) (2.1.1)\n",
            "Requirement already satisfied: keras-preprocessing>=1.1.1 in /usr/local/lib/python3.8/dist-packages (from tensorflow) (1.1.2)\n",
            "Requirement already satisfied: flatbuffers<2,>=1.12 in /usr/local/lib/python3.8/dist-packages (from tensorflow) (1.12)\n",
            "Requirement already satisfied: six>=1.12.0 in /usr/local/lib/python3.8/dist-packages (from tensorflow) (1.15.0)\n",
            "Requirement already satisfied: typing-extensions>=3.6.6 in /usr/local/lib/python3.8/dist-packages (from tensorflow) (4.4.0)\n",
            "Requirement already satisfied: tensorboard<2.10,>=2.9 in /usr/local/lib/python3.8/dist-packages (from tensorflow) (2.9.1)\n",
            "Requirement already satisfied: google-pasta>=0.1.1 in /usr/local/lib/python3.8/dist-packages (from tensorflow) (0.2.0)\n",
            "Requirement already satisfied: wheel<1.0,>=0.23.0 in /usr/local/lib/python3.8/dist-packages (from astunparse>=1.6.0->tensorflow) (0.38.4)\n",
            "Requirement already satisfied: google-auth<3,>=1.6.3 in /usr/local/lib/python3.8/dist-packages (from tensorboard<2.10,>=2.9->tensorflow) (2.15.0)\n",
            "Requirement already satisfied: tensorboard-data-server<0.7.0,>=0.6.0 in /usr/local/lib/python3.8/dist-packages (from tensorboard<2.10,>=2.9->tensorflow) (0.6.1)\n",
            "Requirement already satisfied: google-auth-oauthlib<0.5,>=0.4.1 in /usr/local/lib/python3.8/dist-packages (from tensorboard<2.10,>=2.9->tensorflow) (0.4.6)\n",
            "Requirement already satisfied: markdown>=2.6.8 in /usr/local/lib/python3.8/dist-packages (from tensorboard<2.10,>=2.9->tensorflow) (3.4.1)\n",
            "Requirement already satisfied: werkzeug>=1.0.1 in /usr/local/lib/python3.8/dist-packages (from tensorboard<2.10,>=2.9->tensorflow) (1.0.1)\n",
            "Requirement already satisfied: tensorboard-plugin-wit>=1.6.0 in /usr/local/lib/python3.8/dist-packages (from tensorboard<2.10,>=2.9->tensorflow) (1.8.1)\n",
            "Requirement already satisfied: requests<3,>=2.21.0 in /usr/local/lib/python3.8/dist-packages (from tensorboard<2.10,>=2.9->tensorflow) (2.23.0)\n",
            "Requirement already satisfied: pyasn1-modules>=0.2.1 in /usr/local/lib/python3.8/dist-packages (from google-auth<3,>=1.6.3->tensorboard<2.10,>=2.9->tensorflow) (0.2.8)\n",
            "Requirement already satisfied: cachetools<6.0,>=2.0.0 in /usr/local/lib/python3.8/dist-packages (from google-auth<3,>=1.6.3->tensorboard<2.10,>=2.9->tensorflow) (5.2.0)\n",
            "Requirement already satisfied: rsa<5,>=3.1.4 in /usr/local/lib/python3.8/dist-packages (from google-auth<3,>=1.6.3->tensorboard<2.10,>=2.9->tensorflow) (4.9)\n",
            "Requirement already satisfied: requests-oauthlib>=0.7.0 in /usr/local/lib/python3.8/dist-packages (from google-auth-oauthlib<0.5,>=0.4.1->tensorboard<2.10,>=2.9->tensorflow) (1.3.1)\n",
            "Requirement already satisfied: importlib-metadata>=4.4 in /usr/local/lib/python3.8/dist-packages (from markdown>=2.6.8->tensorboard<2.10,>=2.9->tensorflow) (4.13.0)\n",
            "Requirement already satisfied: zipp>=0.5 in /usr/local/lib/python3.8/dist-packages (from importlib-metadata>=4.4->markdown>=2.6.8->tensorboard<2.10,>=2.9->tensorflow) (3.11.0)\n",
            "Requirement already satisfied: pyasn1<0.5.0,>=0.4.6 in /usr/local/lib/python3.8/dist-packages (from pyasn1-modules>=0.2.1->google-auth<3,>=1.6.3->tensorboard<2.10,>=2.9->tensorflow) (0.4.8)\n",
            "Requirement already satisfied: idna<3,>=2.5 in /usr/local/lib/python3.8/dist-packages (from requests<3,>=2.21.0->tensorboard<2.10,>=2.9->tensorflow) (2.10)\n",
            "Requirement already satisfied: certifi>=2017.4.17 in /usr/local/lib/python3.8/dist-packages (from requests<3,>=2.21.0->tensorboard<2.10,>=2.9->tensorflow) (2022.9.24)\n",
            "Requirement already satisfied: chardet<4,>=3.0.2 in /usr/local/lib/python3.8/dist-packages (from requests<3,>=2.21.0->tensorboard<2.10,>=2.9->tensorflow) (3.0.4)\n",
            "Requirement already satisfied: urllib3!=1.25.0,!=1.25.1,<1.26,>=1.21.1 in /usr/local/lib/python3.8/dist-packages (from requests<3,>=2.21.0->tensorboard<2.10,>=2.9->tensorflow) (1.24.3)\n",
            "Requirement already satisfied: oauthlib>=3.0.0 in /usr/local/lib/python3.8/dist-packages (from requests-oauthlib>=0.7.0->google-auth-oauthlib<0.5,>=0.4.1->tensorboard<2.10,>=2.9->tensorflow) (3.2.2)\n",
            "Requirement already satisfied: pyparsing!=3.0.5,>=2.0.2 in /usr/local/lib/python3.8/dist-packages (from packaging->tensorflow) (3.0.9)\n",
            "Looking in indexes: https://pypi.org/simple, https://us-python.pkg.dev/colab-wheels/public/simple/\n",
            "Requirement already satisfied: import-ipynb in /usr/local/lib/python3.8/dist-packages (0.1.4)\n",
            "Requirement already satisfied: IPython in /usr/local/lib/python3.8/dist-packages (from import-ipynb) (7.9.0)\n",
            "Requirement already satisfied: nbformat in /usr/local/lib/python3.8/dist-packages (from import-ipynb) (5.7.0)\n",
            "Requirement already satisfied: decorator in /usr/local/lib/python3.8/dist-packages (from IPython->import-ipynb) (4.4.2)\n",
            "Requirement already satisfied: prompt-toolkit<2.1.0,>=2.0.0 in /usr/local/lib/python3.8/dist-packages (from IPython->import-ipynb) (2.0.10)\n",
            "Requirement already satisfied: pexpect in /usr/local/lib/python3.8/dist-packages (from IPython->import-ipynb) (4.8.0)\n",
            "Requirement already satisfied: pickleshare in /usr/local/lib/python3.8/dist-packages (from IPython->import-ipynb) (0.7.5)\n",
            "Requirement already satisfied: pygments in /usr/local/lib/python3.8/dist-packages (from IPython->import-ipynb) (2.6.1)\n",
            "Requirement already satisfied: traitlets>=4.2 in /usr/local/lib/python3.8/dist-packages (from IPython->import-ipynb) (5.6.0)\n",
            "Requirement already satisfied: backcall in /usr/local/lib/python3.8/dist-packages (from IPython->import-ipynb) (0.2.0)\n",
            "Requirement already satisfied: jedi>=0.10 in /usr/local/lib/python3.8/dist-packages (from IPython->import-ipynb) (0.18.2)\n",
            "Requirement already satisfied: setuptools>=18.5 in /usr/local/lib/python3.8/dist-packages (from IPython->import-ipynb) (57.4.0)\n",
            "Requirement already satisfied: parso<0.9.0,>=0.8.0 in /usr/local/lib/python3.8/dist-packages (from jedi>=0.10->IPython->import-ipynb) (0.8.3)\n",
            "Requirement already satisfied: wcwidth in /usr/local/lib/python3.8/dist-packages (from prompt-toolkit<2.1.0,>=2.0.0->IPython->import-ipynb) (0.2.5)\n",
            "Requirement already satisfied: six>=1.9.0 in /usr/local/lib/python3.8/dist-packages (from prompt-toolkit<2.1.0,>=2.0.0->IPython->import-ipynb) (1.15.0)\n",
            "Requirement already satisfied: jupyter-core in /usr/local/lib/python3.8/dist-packages (from nbformat->import-ipynb) (5.1.0)\n",
            "Requirement already satisfied: jsonschema>=2.6 in /usr/local/lib/python3.8/dist-packages (from nbformat->import-ipynb) (4.3.3)\n",
            "Requirement already satisfied: fastjsonschema in /usr/local/lib/python3.8/dist-packages (from nbformat->import-ipynb) (2.16.2)\n",
            "Requirement already satisfied: importlib-resources>=1.4.0 in /usr/local/lib/python3.8/dist-packages (from jsonschema>=2.6->nbformat->import-ipynb) (5.10.0)\n",
            "Requirement already satisfied: attrs>=17.4.0 in /usr/local/lib/python3.8/dist-packages (from jsonschema>=2.6->nbformat->import-ipynb) (22.1.0)\n",
            "Requirement already satisfied: pyrsistent!=0.17.0,!=0.17.1,!=0.17.2,>=0.14.0 in /usr/local/lib/python3.8/dist-packages (from jsonschema>=2.6->nbformat->import-ipynb) (0.19.2)\n",
            "Requirement already satisfied: zipp>=3.1.0 in /usr/local/lib/python3.8/dist-packages (from importlib-resources>=1.4.0->jsonschema>=2.6->nbformat->import-ipynb) (3.11.0)\n",
            "Requirement already satisfied: platformdirs>=2.5 in /usr/local/lib/python3.8/dist-packages (from jupyter-core->nbformat->import-ipynb) (2.5.4)\n",
            "Requirement already satisfied: ptyprocess>=0.5 in /usr/local/lib/python3.8/dist-packages (from pexpect->IPython->import-ipynb) (0.7.0)\n",
            "Looking in indexes: https://pypi.org/simple, https://us-python.pkg.dev/colab-wheels/public/simple/\n",
            "Requirement already satisfied: nltk in /usr/local/lib/python3.8/dist-packages (3.7)\n",
            "Requirement already satisfied: click in /usr/local/lib/python3.8/dist-packages (from nltk) (7.1.2)\n",
            "Requirement already satisfied: joblib in /usr/local/lib/python3.8/dist-packages (from nltk) (1.2.0)\n",
            "Requirement already satisfied: regex>=2021.8.3 in /usr/local/lib/python3.8/dist-packages (from nltk) (2022.6.2)\n",
            "Requirement already satisfied: tqdm in /usr/local/lib/python3.8/dist-packages (from nltk) (4.64.1)\n"
          ]
        }
      ]
    },
    {
      "cell_type": "code",
      "metadata": {
        "id": "_lTXsMK3sNYr",
        "colab": {
          "base_uri": "https://localhost:8080/"
        },
        "outputId": "1d3f0f41-5b9d-42f6-ac7d-21b572e82c5d"
      },
      "source": [
        "%%time\n",
        "import os\n",
        "import re\n",
        "from tqdm import tqdm\n",
        "import numpy as np\n",
        "import pandas as pd\n",
        "import matplotlib.pyplot as plt\n",
        "from glob import glob\n",
        "import nltk\n",
        "from sklearn.model_selection import train_test_split\n",
        "import tensorflow as tf\n",
        "from tensorflow.keras.preprocessing.text import Tokenizer\n",
        "from tensorflow.keras.preprocessing.sequence import pad_sequences\n",
        "from tensorflow.keras.models import Sequential, load_model\n",
        "from tensorflow.keras.layers import Dense, Embedding, LSTM, Bidirectional,Flatten, Dropout\n",
        "from sklearn.model_selection import train_test_split\n",
        "import pickle\n",
        "\n",
        "\n",
        "%matplotlib inline"
      ],
      "execution_count": null,
      "outputs": [
        {
          "output_type": "stream",
          "name": "stdout",
          "text": [
            "CPU times: user 16.6 ms, sys: 0 ns, total: 16.6 ms\n",
            "Wall time: 16.7 ms\n"
          ]
        }
      ]
    },
    {
      "cell_type": "code",
      "source": [
        "import import_ipynb\n"
      ],
      "metadata": {
        "id": "TcIwMa3gPk3S"
      },
      "execution_count": null,
      "outputs": []
    },
    {
      "cell_type": "code",
      "source": [
        "# Connect to google drive\n",
        "from google.colab import drive\n",
        "drive.mount('/content/drive')\n",
        "path=\"/content/drive/My Drive/Colab Notebooks\"\n",
        "os.chdir(path)"
      ],
      "metadata": {
        "colab": {
          "base_uri": "https://localhost:8080/"
        },
        "id": "7fnzTvpmdKA1",
        "outputId": "92699970-9e9e-4d40-904c-83ae82135581"
      },
      "execution_count": null,
      "outputs": [
        {
          "output_type": "stream",
          "name": "stdout",
          "text": [
            "Drive already mounted at /content/drive; to attempt to forcibly remount, call drive.mount(\"/content/drive\", force_remount=True).\n"
          ]
        }
      ]
    },
    {
      "cell_type": "code",
      "source": [
        "#from DepressionDetection_preprocessing import *\n",
        "from DepressionDetection_preprocessing import *"
      ],
      "metadata": {
        "id": "bIIr2ZVuc_ec"
      },
      "execution_count": null,
      "outputs": []
    },
    {
      "cell_type": "markdown",
      "metadata": {
        "id": "u07WRKnxsX96"
      },
      "source": [
        "## 2. Dataset"
      ]
    },
    {
      "cell_type": "markdown",
      "metadata": {
        "id": "j1_Tpie3tGp3"
      },
      "source": [
        "### 2.1. Download Dataset"
      ]
    },
    {
      "cell_type": "markdown",
      "metadata": {
        "id": "NVkXcFzrtREn"
      },
      "source": [
        "### 2.2. Load Train Data\n",
        "The DepressionDetection_preprocessing notebook contains data load function. We will be importing the data from the DepressionDetection_preprocessing notebook."
      ]
    },
    {
      "cell_type": "code",
      "source": [
        "#Load dataset\n",
        "data = initail_dataload()"
      ],
      "metadata": {
        "colab": {
          "base_uri": "https://localhost:8080/"
        },
        "id": "Df7Je_pUKCco",
        "outputId": "a4061481-fc75-49c9-cf5d-ab18aee6f418"
      },
      "execution_count": null,
      "outputs": [
        {
          "output_type": "stream",
          "name": "stdout",
          "text": [
            "Drive already mounted at /content/drive; to attempt to forcibly remount, call drive.mount(\"/content/drive\", force_remount=True).\n"
          ]
        }
      ]
    },
    {
      "cell_type": "code",
      "source": [
        "# Load data and set labels\n",
        "#data = pd.read_csv('/content/drive/My Drive/Colab Notebooks/sentiment_tweets3.csv', dtype= {'raw_tweet': str, 'label':int}, nrows=500)\n",
        "\n",
        "# Transform and clean the dataset\n",
        "\n",
        "#Rename the columns\n",
        "data.rename(columns={'raw_tweet' :'tweet'},inplace=True)"
      ],
      "metadata": {
        "id": "EYp6H1O-nmyU"
      },
      "execution_count": null,
      "outputs": []
    },
    {
      "cell_type": "code",
      "source": [
        "import import_ipynb"
      ],
      "metadata": {
        "id": "CJbfQkbguN6V"
      },
      "execution_count": null,
      "outputs": []
    },
    {
      "cell_type": "code",
      "source": [
        "# Import from pre-processing notebook\n",
        "from DepressionDetection_preprocessing import *"
      ],
      "metadata": {
        "id": "gpBSe8kuuSp7"
      },
      "execution_count": null,
      "outputs": []
    },
    {
      "cell_type": "code",
      "source": [
        "! pip install tweet-preprocessor\n",
        "import preprocessor as p\n",
        "from tqdm.notebook import tqdm\n",
        "tqdm.pandas()\n",
        "# Tweet pre-processing\n",
        "def tweet_preprocessing(text):\n",
        "  text = text.replace(\"#\",\"\")\n",
        "\n",
        "  # Replace '&amp;' with '&'\n",
        "  text = re.sub(r'&amp;', '&', text)\n",
        "\n",
        "  # Remove trailing whitespace\n",
        "  text = re.sub(r'\\s+', ' ', text).strip()\n",
        "\n",
        "  return p.clean(text)"
      ],
      "metadata": {
        "id": "dn7CSDQgSYFX",
        "colab": {
          "base_uri": "https://localhost:8080/"
        },
        "outputId": "b9ee9d7d-a54a-4430-d560-69850a701097"
      },
      "execution_count": null,
      "outputs": [
        {
          "output_type": "stream",
          "name": "stdout",
          "text": [
            "Looking in indexes: https://pypi.org/simple, https://us-python.pkg.dev/colab-wheels/public/simple/\n",
            "Requirement already satisfied: tweet-preprocessor in /usr/local/lib/python3.8/dist-packages (0.6.0)\n"
          ]
        }
      ]
    },
    {
      "cell_type": "code",
      "source": [
        "data.sample(5)"
      ],
      "metadata": {
        "colab": {
          "base_uri": "https://localhost:8080/",
          "height": 221
        },
        "id": "H82NrVLYeWwA",
        "outputId": "79bd599e-21e3-49b6-c56e-60ee65427ff2"
      },
      "execution_count": null,
      "outputs": [
        {
          "output_type": "execute_result",
          "data": {
            "text/plain": [
              "      label                                              tweet\n",
              "2495      0                                             update\n",
              "3563      0  yey weather finally take turn bettter sun last...\n",
              "5563      0  make korean cucumber salad cucumbers special g...\n",
              "2889      0                         aww babe think might watch\n",
              "7997      0  oved cameo make chuckle along sxsw talk past c..."
            ],
            "text/html": [
              "\n",
              "  <div id=\"df-66742508-075f-456d-9f33-c46bd61cd37e\">\n",
              "    <div class=\"colab-df-container\">\n",
              "      <div>\n",
              "<style scoped>\n",
              "    .dataframe tbody tr th:only-of-type {\n",
              "        vertical-align: middle;\n",
              "    }\n",
              "\n",
              "    .dataframe tbody tr th {\n",
              "        vertical-align: top;\n",
              "    }\n",
              "\n",
              "    .dataframe thead th {\n",
              "        text-align: right;\n",
              "    }\n",
              "</style>\n",
              "<table border=\"1\" class=\"dataframe\">\n",
              "  <thead>\n",
              "    <tr style=\"text-align: right;\">\n",
              "      <th></th>\n",
              "      <th>label</th>\n",
              "      <th>tweet</th>\n",
              "    </tr>\n",
              "  </thead>\n",
              "  <tbody>\n",
              "    <tr>\n",
              "      <th>2495</th>\n",
              "      <td>0</td>\n",
              "      <td>update</td>\n",
              "    </tr>\n",
              "    <tr>\n",
              "      <th>3563</th>\n",
              "      <td>0</td>\n",
              "      <td>yey weather finally take turn bettter sun last...</td>\n",
              "    </tr>\n",
              "    <tr>\n",
              "      <th>5563</th>\n",
              "      <td>0</td>\n",
              "      <td>make korean cucumber salad cucumbers special g...</td>\n",
              "    </tr>\n",
              "    <tr>\n",
              "      <th>2889</th>\n",
              "      <td>0</td>\n",
              "      <td>aww babe think might watch</td>\n",
              "    </tr>\n",
              "    <tr>\n",
              "      <th>7997</th>\n",
              "      <td>0</td>\n",
              "      <td>oved cameo make chuckle along sxsw talk past c...</td>\n",
              "    </tr>\n",
              "  </tbody>\n",
              "</table>\n",
              "</div>\n",
              "      <button class=\"colab-df-convert\" onclick=\"convertToInteractive('df-66742508-075f-456d-9f33-c46bd61cd37e')\"\n",
              "              title=\"Convert this dataframe to an interactive table.\"\n",
              "              style=\"display:none;\">\n",
              "        \n",
              "  <svg xmlns=\"http://www.w3.org/2000/svg\" height=\"24px\"viewBox=\"0 0 24 24\"\n",
              "       width=\"24px\">\n",
              "    <path d=\"M0 0h24v24H0V0z\" fill=\"none\"/>\n",
              "    <path d=\"M18.56 5.44l.94 2.06.94-2.06 2.06-.94-2.06-.94-.94-2.06-.94 2.06-2.06.94zm-11 1L8.5 8.5l.94-2.06 2.06-.94-2.06-.94L8.5 2.5l-.94 2.06-2.06.94zm10 10l.94 2.06.94-2.06 2.06-.94-2.06-.94-.94-2.06-.94 2.06-2.06.94z\"/><path d=\"M17.41 7.96l-1.37-1.37c-.4-.4-.92-.59-1.43-.59-.52 0-1.04.2-1.43.59L10.3 9.45l-7.72 7.72c-.78.78-.78 2.05 0 2.83L4 21.41c.39.39.9.59 1.41.59.51 0 1.02-.2 1.41-.59l7.78-7.78 2.81-2.81c.8-.78.8-2.07 0-2.86zM5.41 20L4 18.59l7.72-7.72 1.47 1.35L5.41 20z\"/>\n",
              "  </svg>\n",
              "      </button>\n",
              "      \n",
              "  <style>\n",
              "    .colab-df-container {\n",
              "      display:flex;\n",
              "      flex-wrap:wrap;\n",
              "      gap: 12px;\n",
              "    }\n",
              "\n",
              "    .colab-df-convert {\n",
              "      background-color: #E8F0FE;\n",
              "      border: none;\n",
              "      border-radius: 50%;\n",
              "      cursor: pointer;\n",
              "      display: none;\n",
              "      fill: #1967D2;\n",
              "      height: 32px;\n",
              "      padding: 0 0 0 0;\n",
              "      width: 32px;\n",
              "    }\n",
              "\n",
              "    .colab-df-convert:hover {\n",
              "      background-color: #E2EBFA;\n",
              "      box-shadow: 0px 1px 2px rgba(60, 64, 67, 0.3), 0px 1px 3px 1px rgba(60, 64, 67, 0.15);\n",
              "      fill: #174EA6;\n",
              "    }\n",
              "\n",
              "    [theme=dark] .colab-df-convert {\n",
              "      background-color: #3B4455;\n",
              "      fill: #D2E3FC;\n",
              "    }\n",
              "\n",
              "    [theme=dark] .colab-df-convert:hover {\n",
              "      background-color: #434B5C;\n",
              "      box-shadow: 0px 1px 3px 1px rgba(0, 0, 0, 0.15);\n",
              "      filter: drop-shadow(0px 1px 2px rgba(0, 0, 0, 0.3));\n",
              "      fill: #FFFFFF;\n",
              "    }\n",
              "  </style>\n",
              "\n",
              "      <script>\n",
              "        const buttonEl =\n",
              "          document.querySelector('#df-66742508-075f-456d-9f33-c46bd61cd37e button.colab-df-convert');\n",
              "        buttonEl.style.display =\n",
              "          google.colab.kernel.accessAllowed ? 'block' : 'none';\n",
              "\n",
              "        async function convertToInteractive(key) {\n",
              "          const element = document.querySelector('#df-66742508-075f-456d-9f33-c46bd61cd37e');\n",
              "          const dataTable =\n",
              "            await google.colab.kernel.invokeFunction('convertToInteractive',\n",
              "                                                     [key], {});\n",
              "          if (!dataTable) return;\n",
              "\n",
              "          const docLinkHtml = 'Like what you see? Visit the ' +\n",
              "            '<a target=\"_blank\" href=https://colab.research.google.com/notebooks/data_table.ipynb>data table notebook</a>'\n",
              "            + ' to learn more about interactive tables.';\n",
              "          element.innerHTML = '';\n",
              "          dataTable['output_type'] = 'display_data';\n",
              "          await google.colab.output.renderOutput(dataTable, element);\n",
              "          const docLink = document.createElement('div');\n",
              "          docLink.innerHTML = docLinkHtml;\n",
              "          element.appendChild(docLink);\n",
              "        }\n",
              "      </script>\n",
              "    </div>\n",
              "  </div>\n",
              "  "
            ]
          },
          "metadata": {},
          "execution_count": 49
        }
      ]
    },
    {
      "cell_type": "code",
      "source": [
        "# Perform Cleaning and Lemmatization\n",
        "data['tweet'] = data['tweet'].apply(tweet_preprocessing)"
      ],
      "metadata": {
        "id": "HE3ZLtkAtAW-"
      },
      "execution_count": null,
      "outputs": []
    },
    {
      "cell_type": "code",
      "source": [
        " # Removing empty rows\n",
        "data = clean_empty_rows(data,'tweet')"
      ],
      "metadata": {
        "colab": {
          "base_uri": "https://localhost:8080/"
        },
        "id": "0GaI-CDcvTAi",
        "outputId": "1c83d439-9ccc-49b7-d923-382821be3261"
      },
      "execution_count": null,
      "outputs": [
        {
          "output_type": "stream",
          "name": "stdout",
          "text": [
            "Initial size (10260, 2)\n",
            "Shape after cleaning (10260, 2)\n"
          ]
        }
      ]
    },
    {
      "cell_type": "code",
      "source": [
        "data.sample(5)"
      ],
      "metadata": {
        "colab": {
          "base_uri": "https://localhost:8080/",
          "height": 221
        },
        "id": "Da0Vg3ZK03e-",
        "outputId": "3dd4d43f-750b-4e81-b383-354448baa8c5"
      },
      "execution_count": null,
      "outputs": [
        {
          "output_type": "execute_result",
          "data": {
            "text/plain": [
              "      label                                              tweet\n",
              "5967      0  need coordinate massive tweetup speakers twitt...\n",
              "8309      1  anye one favorite rappers older stuff still to...\n",
              "8827      1  struggle overcome depression payment vary stud...\n",
              "3916      0                                             really\n",
              "4996      0                                         thank much"
            ],
            "text/html": [
              "\n",
              "  <div id=\"df-afec733d-ad7d-47f1-82a7-0c82ba340af3\">\n",
              "    <div class=\"colab-df-container\">\n",
              "      <div>\n",
              "<style scoped>\n",
              "    .dataframe tbody tr th:only-of-type {\n",
              "        vertical-align: middle;\n",
              "    }\n",
              "\n",
              "    .dataframe tbody tr th {\n",
              "        vertical-align: top;\n",
              "    }\n",
              "\n",
              "    .dataframe thead th {\n",
              "        text-align: right;\n",
              "    }\n",
              "</style>\n",
              "<table border=\"1\" class=\"dataframe\">\n",
              "  <thead>\n",
              "    <tr style=\"text-align: right;\">\n",
              "      <th></th>\n",
              "      <th>label</th>\n",
              "      <th>tweet</th>\n",
              "    </tr>\n",
              "  </thead>\n",
              "  <tbody>\n",
              "    <tr>\n",
              "      <th>5967</th>\n",
              "      <td>0</td>\n",
              "      <td>need coordinate massive tweetup speakers twitt...</td>\n",
              "    </tr>\n",
              "    <tr>\n",
              "      <th>8309</th>\n",
              "      <td>1</td>\n",
              "      <td>anye one favorite rappers older stuff still to...</td>\n",
              "    </tr>\n",
              "    <tr>\n",
              "      <th>8827</th>\n",
              "      <td>1</td>\n",
              "      <td>struggle overcome depression payment vary stud...</td>\n",
              "    </tr>\n",
              "    <tr>\n",
              "      <th>3916</th>\n",
              "      <td>0</td>\n",
              "      <td>really</td>\n",
              "    </tr>\n",
              "    <tr>\n",
              "      <th>4996</th>\n",
              "      <td>0</td>\n",
              "      <td>thank much</td>\n",
              "    </tr>\n",
              "  </tbody>\n",
              "</table>\n",
              "</div>\n",
              "      <button class=\"colab-df-convert\" onclick=\"convertToInteractive('df-afec733d-ad7d-47f1-82a7-0c82ba340af3')\"\n",
              "              title=\"Convert this dataframe to an interactive table.\"\n",
              "              style=\"display:none;\">\n",
              "        \n",
              "  <svg xmlns=\"http://www.w3.org/2000/svg\" height=\"24px\"viewBox=\"0 0 24 24\"\n",
              "       width=\"24px\">\n",
              "    <path d=\"M0 0h24v24H0V0z\" fill=\"none\"/>\n",
              "    <path d=\"M18.56 5.44l.94 2.06.94-2.06 2.06-.94-2.06-.94-.94-2.06-.94 2.06-2.06.94zm-11 1L8.5 8.5l.94-2.06 2.06-.94-2.06-.94L8.5 2.5l-.94 2.06-2.06.94zm10 10l.94 2.06.94-2.06 2.06-.94-2.06-.94-.94-2.06-.94 2.06-2.06.94z\"/><path d=\"M17.41 7.96l-1.37-1.37c-.4-.4-.92-.59-1.43-.59-.52 0-1.04.2-1.43.59L10.3 9.45l-7.72 7.72c-.78.78-.78 2.05 0 2.83L4 21.41c.39.39.9.59 1.41.59.51 0 1.02-.2 1.41-.59l7.78-7.78 2.81-2.81c.8-.78.8-2.07 0-2.86zM5.41 20L4 18.59l7.72-7.72 1.47 1.35L5.41 20z\"/>\n",
              "  </svg>\n",
              "      </button>\n",
              "      \n",
              "  <style>\n",
              "    .colab-df-container {\n",
              "      display:flex;\n",
              "      flex-wrap:wrap;\n",
              "      gap: 12px;\n",
              "    }\n",
              "\n",
              "    .colab-df-convert {\n",
              "      background-color: #E8F0FE;\n",
              "      border: none;\n",
              "      border-radius: 50%;\n",
              "      cursor: pointer;\n",
              "      display: none;\n",
              "      fill: #1967D2;\n",
              "      height: 32px;\n",
              "      padding: 0 0 0 0;\n",
              "      width: 32px;\n",
              "    }\n",
              "\n",
              "    .colab-df-convert:hover {\n",
              "      background-color: #E2EBFA;\n",
              "      box-shadow: 0px 1px 2px rgba(60, 64, 67, 0.3), 0px 1px 3px 1px rgba(60, 64, 67, 0.15);\n",
              "      fill: #174EA6;\n",
              "    }\n",
              "\n",
              "    [theme=dark] .colab-df-convert {\n",
              "      background-color: #3B4455;\n",
              "      fill: #D2E3FC;\n",
              "    }\n",
              "\n",
              "    [theme=dark] .colab-df-convert:hover {\n",
              "      background-color: #434B5C;\n",
              "      box-shadow: 0px 1px 3px 1px rgba(0, 0, 0, 0.15);\n",
              "      filter: drop-shadow(0px 1px 2px rgba(0, 0, 0, 0.3));\n",
              "      fill: #FFFFFF;\n",
              "    }\n",
              "  </style>\n",
              "\n",
              "      <script>\n",
              "        const buttonEl =\n",
              "          document.querySelector('#df-afec733d-ad7d-47f1-82a7-0c82ba340af3 button.colab-df-convert');\n",
              "        buttonEl.style.display =\n",
              "          google.colab.kernel.accessAllowed ? 'block' : 'none';\n",
              "\n",
              "        async function convertToInteractive(key) {\n",
              "          const element = document.querySelector('#df-afec733d-ad7d-47f1-82a7-0c82ba340af3');\n",
              "          const dataTable =\n",
              "            await google.colab.kernel.invokeFunction('convertToInteractive',\n",
              "                                                     [key], {});\n",
              "          if (!dataTable) return;\n",
              "\n",
              "          const docLinkHtml = 'Like what you see? Visit the ' +\n",
              "            '<a target=\"_blank\" href=https://colab.research.google.com/notebooks/data_table.ipynb>data table notebook</a>'\n",
              "            + ' to learn more about interactive tables.';\n",
              "          element.innerHTML = '';\n",
              "          dataTable['output_type'] = 'display_data';\n",
              "          await google.colab.output.renderOutput(dataTable, element);\n",
              "          const docLink = document.createElement('div');\n",
              "          docLink.innerHTML = docLinkHtml;\n",
              "          element.appendChild(docLink);\n",
              "        }\n",
              "      </script>\n",
              "    </div>\n",
              "  </div>\n",
              "  "
            ]
          },
          "metadata": {},
          "execution_count": 52
        }
      ]
    },
    {
      "cell_type": "markdown",
      "source": [
        "##Load Test data"
      ],
      "metadata": {
        "id": "d15uA1iz96T3"
      }
    },
    {
      "cell_type": "markdown",
      "source": [
        "## 2.2 Test dataset Preparation"
      ],
      "metadata": {
        "id": "BzR5GG100mrN"
      }
    },
    {
      "cell_type": "code",
      "source": [
        "# Load data and set labels\n",
        "test_data = pd.read_csv('/content/drive/My Drive/Colab Notebooks/validation_data.csv', \n",
        "                        dtype= {'raw_tweet': str, 'label':int}, nrows=500,  usecols=[0,1])\n"
      ],
      "metadata": {
        "id": "Um2Y20bA0wm2"
      },
      "execution_count": null,
      "outputs": []
    },
    {
      "cell_type": "code",
      "source": [
        "test_data.head()"
      ],
      "metadata": {
        "colab": {
          "base_uri": "https://localhost:8080/",
          "height": 221
        },
        "id": "IStfM1Ec3Gao",
        "outputId": "e6ff0ff8-2a12-4ac4-9a37-8f8b95ae9675"
      },
      "execution_count": null,
      "outputs": [
        {
          "output_type": "execute_result",
          "data": {
            "text/plain": [
              "                                           raw_tweet  label\n",
              "0  @_TASOfficial_ I really miss XYZ since 2016 i ...      1\n",
              "1  There's not much an 8 mile depression run can'...      1\n",
              "2  How to Overcome Depression#WednesdayThoughts #...      0\n",
              "3  Real Talk #Kanye has never pulled himself full...      0\n",
              "4  @andrea_r so it would seem. Good if you wanted...      0"
            ],
            "text/html": [
              "\n",
              "  <div id=\"df-9491f31a-4267-41d4-a856-2602dc69c51e\">\n",
              "    <div class=\"colab-df-container\">\n",
              "      <div>\n",
              "<style scoped>\n",
              "    .dataframe tbody tr th:only-of-type {\n",
              "        vertical-align: middle;\n",
              "    }\n",
              "\n",
              "    .dataframe tbody tr th {\n",
              "        vertical-align: top;\n",
              "    }\n",
              "\n",
              "    .dataframe thead th {\n",
              "        text-align: right;\n",
              "    }\n",
              "</style>\n",
              "<table border=\"1\" class=\"dataframe\">\n",
              "  <thead>\n",
              "    <tr style=\"text-align: right;\">\n",
              "      <th></th>\n",
              "      <th>raw_tweet</th>\n",
              "      <th>label</th>\n",
              "    </tr>\n",
              "  </thead>\n",
              "  <tbody>\n",
              "    <tr>\n",
              "      <th>0</th>\n",
              "      <td>@_TASOfficial_ I really miss XYZ since 2016 i ...</td>\n",
              "      <td>1</td>\n",
              "    </tr>\n",
              "    <tr>\n",
              "      <th>1</th>\n",
              "      <td>There's not much an 8 mile depression run can'...</td>\n",
              "      <td>1</td>\n",
              "    </tr>\n",
              "    <tr>\n",
              "      <th>2</th>\n",
              "      <td>How to Overcome Depression#WednesdayThoughts #...</td>\n",
              "      <td>0</td>\n",
              "    </tr>\n",
              "    <tr>\n",
              "      <th>3</th>\n",
              "      <td>Real Talk #Kanye has never pulled himself full...</td>\n",
              "      <td>0</td>\n",
              "    </tr>\n",
              "    <tr>\n",
              "      <th>4</th>\n",
              "      <td>@andrea_r so it would seem. Good if you wanted...</td>\n",
              "      <td>0</td>\n",
              "    </tr>\n",
              "  </tbody>\n",
              "</table>\n",
              "</div>\n",
              "      <button class=\"colab-df-convert\" onclick=\"convertToInteractive('df-9491f31a-4267-41d4-a856-2602dc69c51e')\"\n",
              "              title=\"Convert this dataframe to an interactive table.\"\n",
              "              style=\"display:none;\">\n",
              "        \n",
              "  <svg xmlns=\"http://www.w3.org/2000/svg\" height=\"24px\"viewBox=\"0 0 24 24\"\n",
              "       width=\"24px\">\n",
              "    <path d=\"M0 0h24v24H0V0z\" fill=\"none\"/>\n",
              "    <path d=\"M18.56 5.44l.94 2.06.94-2.06 2.06-.94-2.06-.94-.94-2.06-.94 2.06-2.06.94zm-11 1L8.5 8.5l.94-2.06 2.06-.94-2.06-.94L8.5 2.5l-.94 2.06-2.06.94zm10 10l.94 2.06.94-2.06 2.06-.94-2.06-.94-.94-2.06-.94 2.06-2.06.94z\"/><path d=\"M17.41 7.96l-1.37-1.37c-.4-.4-.92-.59-1.43-.59-.52 0-1.04.2-1.43.59L10.3 9.45l-7.72 7.72c-.78.78-.78 2.05 0 2.83L4 21.41c.39.39.9.59 1.41.59.51 0 1.02-.2 1.41-.59l7.78-7.78 2.81-2.81c.8-.78.8-2.07 0-2.86zM5.41 20L4 18.59l7.72-7.72 1.47 1.35L5.41 20z\"/>\n",
              "  </svg>\n",
              "      </button>\n",
              "      \n",
              "  <style>\n",
              "    .colab-df-container {\n",
              "      display:flex;\n",
              "      flex-wrap:wrap;\n",
              "      gap: 12px;\n",
              "    }\n",
              "\n",
              "    .colab-df-convert {\n",
              "      background-color: #E8F0FE;\n",
              "      border: none;\n",
              "      border-radius: 50%;\n",
              "      cursor: pointer;\n",
              "      display: none;\n",
              "      fill: #1967D2;\n",
              "      height: 32px;\n",
              "      padding: 0 0 0 0;\n",
              "      width: 32px;\n",
              "    }\n",
              "\n",
              "    .colab-df-convert:hover {\n",
              "      background-color: #E2EBFA;\n",
              "      box-shadow: 0px 1px 2px rgba(60, 64, 67, 0.3), 0px 1px 3px 1px rgba(60, 64, 67, 0.15);\n",
              "      fill: #174EA6;\n",
              "    }\n",
              "\n",
              "    [theme=dark] .colab-df-convert {\n",
              "      background-color: #3B4455;\n",
              "      fill: #D2E3FC;\n",
              "    }\n",
              "\n",
              "    [theme=dark] .colab-df-convert:hover {\n",
              "      background-color: #434B5C;\n",
              "      box-shadow: 0px 1px 3px 1px rgba(0, 0, 0, 0.15);\n",
              "      filter: drop-shadow(0px 1px 2px rgba(0, 0, 0, 0.3));\n",
              "      fill: #FFFFFF;\n",
              "    }\n",
              "  </style>\n",
              "\n",
              "      <script>\n",
              "        const buttonEl =\n",
              "          document.querySelector('#df-9491f31a-4267-41d4-a856-2602dc69c51e button.colab-df-convert');\n",
              "        buttonEl.style.display =\n",
              "          google.colab.kernel.accessAllowed ? 'block' : 'none';\n",
              "\n",
              "        async function convertToInteractive(key) {\n",
              "          const element = document.querySelector('#df-9491f31a-4267-41d4-a856-2602dc69c51e');\n",
              "          const dataTable =\n",
              "            await google.colab.kernel.invokeFunction('convertToInteractive',\n",
              "                                                     [key], {});\n",
              "          if (!dataTable) return;\n",
              "\n",
              "          const docLinkHtml = 'Like what you see? Visit the ' +\n",
              "            '<a target=\"_blank\" href=https://colab.research.google.com/notebooks/data_table.ipynb>data table notebook</a>'\n",
              "            + ' to learn more about interactive tables.';\n",
              "          element.innerHTML = '';\n",
              "          dataTable['output_type'] = 'display_data';\n",
              "          await google.colab.output.renderOutput(dataTable, element);\n",
              "          const docLink = document.createElement('div');\n",
              "          docLink.innerHTML = docLinkHtml;\n",
              "          element.appendChild(docLink);\n",
              "        }\n",
              "      </script>\n",
              "    </div>\n",
              "  </div>\n",
              "  "
            ]
          },
          "metadata": {},
          "execution_count": 54
        }
      ]
    },
    {
      "cell_type": "code",
      "source": [
        "#Rename the columns\n",
        "test_data.rename(columns={'raw_tweet' :'tweet'},inplace=True)\n",
        "# Perform Cleaning and Lemmatization\n",
        "test_data['tweet'] = test_data['tweet'].apply(clean_tweet)"
      ],
      "metadata": {
        "id": "z7kOpRuV1t-N"
      },
      "execution_count": null,
      "outputs": []
    },
    {
      "cell_type": "code",
      "source": [
        " # Removing empty rows\n",
        "test_data = clean_empty_rows(test_data,'tweet')"
      ],
      "metadata": {
        "colab": {
          "base_uri": "https://localhost:8080/"
        },
        "id": "Uu5TKE_v11jZ",
        "outputId": "d2b495c3-f894-403e-a687-f1c54e10b287"
      },
      "execution_count": null,
      "outputs": [
        {
          "output_type": "stream",
          "name": "stdout",
          "text": [
            "Initial size (500, 2)\n",
            "Shape after cleaning (500, 2)\n"
          ]
        }
      ]
    },
    {
      "cell_type": "code",
      "source": [
        "test_data.head()"
      ],
      "metadata": {
        "colab": {
          "base_uri": "https://localhost:8080/",
          "height": 221
        },
        "id": "7g-JOJED17_L",
        "outputId": "a5e415b0-bb58-42cd-8ffa-b4db0eee59be"
      },
      "execution_count": null,
      "outputs": [
        {
          "output_type": "execute_result",
          "data": {
            "text/plain": [
              "                                               tweet  label\n",
              "0  tasofficial really miss xyz since post anime d...      1\n",
              "1  there be not much mile depression run cannot f...      1\n",
              "2                     how overcome depression aprile      0\n",
              "3  real talk never pull fully depression suffer m...      0\n",
              "4  would seem good want multi user video site als...      0"
            ],
            "text/html": [
              "\n",
              "  <div id=\"df-6e0923d1-3a11-454e-8b31-440228a86a79\">\n",
              "    <div class=\"colab-df-container\">\n",
              "      <div>\n",
              "<style scoped>\n",
              "    .dataframe tbody tr th:only-of-type {\n",
              "        vertical-align: middle;\n",
              "    }\n",
              "\n",
              "    .dataframe tbody tr th {\n",
              "        vertical-align: top;\n",
              "    }\n",
              "\n",
              "    .dataframe thead th {\n",
              "        text-align: right;\n",
              "    }\n",
              "</style>\n",
              "<table border=\"1\" class=\"dataframe\">\n",
              "  <thead>\n",
              "    <tr style=\"text-align: right;\">\n",
              "      <th></th>\n",
              "      <th>tweet</th>\n",
              "      <th>label</th>\n",
              "    </tr>\n",
              "  </thead>\n",
              "  <tbody>\n",
              "    <tr>\n",
              "      <th>0</th>\n",
              "      <td>tasofficial really miss xyz since post anime d...</td>\n",
              "      <td>1</td>\n",
              "    </tr>\n",
              "    <tr>\n",
              "      <th>1</th>\n",
              "      <td>there be not much mile depression run cannot f...</td>\n",
              "      <td>1</td>\n",
              "    </tr>\n",
              "    <tr>\n",
              "      <th>2</th>\n",
              "      <td>how overcome depression aprile</td>\n",
              "      <td>0</td>\n",
              "    </tr>\n",
              "    <tr>\n",
              "      <th>3</th>\n",
              "      <td>real talk never pull fully depression suffer m...</td>\n",
              "      <td>0</td>\n",
              "    </tr>\n",
              "    <tr>\n",
              "      <th>4</th>\n",
              "      <td>would seem good want multi user video site als...</td>\n",
              "      <td>0</td>\n",
              "    </tr>\n",
              "  </tbody>\n",
              "</table>\n",
              "</div>\n",
              "      <button class=\"colab-df-convert\" onclick=\"convertToInteractive('df-6e0923d1-3a11-454e-8b31-440228a86a79')\"\n",
              "              title=\"Convert this dataframe to an interactive table.\"\n",
              "              style=\"display:none;\">\n",
              "        \n",
              "  <svg xmlns=\"http://www.w3.org/2000/svg\" height=\"24px\"viewBox=\"0 0 24 24\"\n",
              "       width=\"24px\">\n",
              "    <path d=\"M0 0h24v24H0V0z\" fill=\"none\"/>\n",
              "    <path d=\"M18.56 5.44l.94 2.06.94-2.06 2.06-.94-2.06-.94-.94-2.06-.94 2.06-2.06.94zm-11 1L8.5 8.5l.94-2.06 2.06-.94-2.06-.94L8.5 2.5l-.94 2.06-2.06.94zm10 10l.94 2.06.94-2.06 2.06-.94-2.06-.94-.94-2.06-.94 2.06-2.06.94z\"/><path d=\"M17.41 7.96l-1.37-1.37c-.4-.4-.92-.59-1.43-.59-.52 0-1.04.2-1.43.59L10.3 9.45l-7.72 7.72c-.78.78-.78 2.05 0 2.83L4 21.41c.39.39.9.59 1.41.59.51 0 1.02-.2 1.41-.59l7.78-7.78 2.81-2.81c.8-.78.8-2.07 0-2.86zM5.41 20L4 18.59l7.72-7.72 1.47 1.35L5.41 20z\"/>\n",
              "  </svg>\n",
              "      </button>\n",
              "      \n",
              "  <style>\n",
              "    .colab-df-container {\n",
              "      display:flex;\n",
              "      flex-wrap:wrap;\n",
              "      gap: 12px;\n",
              "    }\n",
              "\n",
              "    .colab-df-convert {\n",
              "      background-color: #E8F0FE;\n",
              "      border: none;\n",
              "      border-radius: 50%;\n",
              "      cursor: pointer;\n",
              "      display: none;\n",
              "      fill: #1967D2;\n",
              "      height: 32px;\n",
              "      padding: 0 0 0 0;\n",
              "      width: 32px;\n",
              "    }\n",
              "\n",
              "    .colab-df-convert:hover {\n",
              "      background-color: #E2EBFA;\n",
              "      box-shadow: 0px 1px 2px rgba(60, 64, 67, 0.3), 0px 1px 3px 1px rgba(60, 64, 67, 0.15);\n",
              "      fill: #174EA6;\n",
              "    }\n",
              "\n",
              "    [theme=dark] .colab-df-convert {\n",
              "      background-color: #3B4455;\n",
              "      fill: #D2E3FC;\n",
              "    }\n",
              "\n",
              "    [theme=dark] .colab-df-convert:hover {\n",
              "      background-color: #434B5C;\n",
              "      box-shadow: 0px 1px 3px 1px rgba(0, 0, 0, 0.15);\n",
              "      filter: drop-shadow(0px 1px 2px rgba(0, 0, 0, 0.3));\n",
              "      fill: #FFFFFF;\n",
              "    }\n",
              "  </style>\n",
              "\n",
              "      <script>\n",
              "        const buttonEl =\n",
              "          document.querySelector('#df-6e0923d1-3a11-454e-8b31-440228a86a79 button.colab-df-convert');\n",
              "        buttonEl.style.display =\n",
              "          google.colab.kernel.accessAllowed ? 'block' : 'none';\n",
              "\n",
              "        async function convertToInteractive(key) {\n",
              "          const element = document.querySelector('#df-6e0923d1-3a11-454e-8b31-440228a86a79');\n",
              "          const dataTable =\n",
              "            await google.colab.kernel.invokeFunction('convertToInteractive',\n",
              "                                                     [key], {});\n",
              "          if (!dataTable) return;\n",
              "\n",
              "          const docLinkHtml = 'Like what you see? Visit the ' +\n",
              "            '<a target=\"_blank\" href=https://colab.research.google.com/notebooks/data_table.ipynb>data table notebook</a>'\n",
              "            + ' to learn more about interactive tables.';\n",
              "          element.innerHTML = '';\n",
              "          dataTable['output_type'] = 'display_data';\n",
              "          await google.colab.output.renderOutput(dataTable, element);\n",
              "          const docLink = document.createElement('div');\n",
              "          docLink.innerHTML = docLinkHtml;\n",
              "          element.appendChild(docLink);\n",
              "        }\n",
              "      </script>\n",
              "    </div>\n",
              "  </div>\n",
              "  "
            ]
          },
          "metadata": {},
          "execution_count": 57
        }
      ]
    },
    {
      "cell_type": "markdown",
      "source": [
        "##Splitting the Data"
      ],
      "metadata": {
        "id": "cBAvpwTVvIhu"
      }
    },
    {
      "cell_type": "code",
      "source": [
        "X_data, y_data = np.array(data['tweet']), np.array(data['label'])\n",
        "label = data.label.values\n",
        "\n",
        "X_train = X_data\n",
        "y_train = y_data\n",
        "X_test, y_test = np.array(test_data['tweet']), np.array(test_data['label']) \n",
        "print('Data Split done.')"
      ],
      "metadata": {
        "colab": {
          "base_uri": "https://localhost:8080/"
        },
        "id": "uQEEhFcWvWFp",
        "outputId": "4cdf0231-5ad8-469f-f7e0-3fc011dfe18c"
      },
      "execution_count": null,
      "outputs": [
        {
          "output_type": "stream",
          "name": "stdout",
          "text": [
            "Data Split done.\n"
          ]
        }
      ]
    },
    {
      "cell_type": "markdown",
      "source": [
        "Word Embedding\n",
        "## <a id=\"5\">Creating Word Embeddings using Word2Vec model</a>\n",
        "\n",
        "**Word embedding** is one of the most popular representation of document vocabulary. It is capable of capturing context of a word in a document, semantic and syntactic similarity, relation with other words, etc. Word embeddings are **vector representations** of a particular word.\n",
        "\n",
        "Word2Vec can create word embeddings using two methods (both involving Neural Networks): **Skip Gram** and **Common Bag Of Words (CBOW)**"
      ],
      "metadata": {
        "id": "x0lOn_ZKvIuu"
      }
    },
    {
      "cell_type": "code",
      "source": [
        "from gensim.models import Word2Vec\n",
        "\n",
        "Embedding_dimensions = 100\n",
        "\n",
        "# Creating Word2Vec training dataset.\n",
        "Word2vec_train_data = list(map(lambda x: x.split(), X_train))"
      ],
      "metadata": {
        "id": "-AEmbFZ3woi0"
      },
      "execution_count": null,
      "outputs": []
    },
    {
      "cell_type": "markdown",
      "source": [
        "**Word2Vec()** function creates and trains the word embeddings using the data passed.\n",
        "\n",
        "**Training Parameters**\n",
        "* **size:** The number of dimensions (N) that the Word2Vec maps the words onto. Bigger size values require more training data, but can lead to better (more accurate) models.\n",
        "* **workers:** Specifies the number of worker threads for training parallelization, to speed up training.\n",
        "* **min_count:** min_count is for pruning the internal dictionary. Words that appear only once or twice in a billion-word corpus are probably uninteresting typos and garbage. In addition, there’s not enough data to make any meaningful training on those words, so it’s best to ignore them."
      ],
      "metadata": {
        "id": "bifGG0i8ws-D"
      }
    },
    {
      "cell_type": "code",
      "source": [
        "%%time\n",
        "\n",
        "# Defining the model and training it.\n",
        "word2vec_model = Word2Vec(Word2vec_train_data,\n",
        "                 size=Embedding_dimensions,\n",
        "                 workers=8,\n",
        "                 min_count=5)\n",
        "\n",
        "print(\"Vocabulary Length:\", len(word2vec_model.wv.index2word))"
      ],
      "metadata": {
        "colab": {
          "base_uri": "https://localhost:8080/"
        },
        "id": "IQU-SE0Iw1Hj",
        "outputId": "fe7e8b49-9a72-4514-d124-ed1011195d1d"
      },
      "execution_count": null,
      "outputs": [
        {
          "output_type": "stream",
          "name": "stderr",
          "text": [
            "WARNING:gensim.models.base_any2vec:under 10 jobs per worker: consider setting a smaller `batch_words' for smoother alpha decay\n"
          ]
        },
        {
          "output_type": "stream",
          "name": "stdout",
          "text": [
            "Vocabulary Length: 2235\n",
            "CPU times: user 1.24 s, sys: 19.5 ms, total: 1.26 s\n",
            "Wall time: 960 ms\n"
          ]
        }
      ]
    },
    {
      "cell_type": "markdown",
      "source": [],
      "metadata": {
        "id": "_Bby12ivx4xD"
      }
    },
    {
      "cell_type": "markdown",
      "source": [
        "## <a id=\"7\">Tokenizing and Padding datasets</a>\n",
        "\n",
        "**Tokenization** is a common task in **Natural Language Processing (NLP)**. It’s a fundamental step in both traditional NLP methods like **Count Vectorizer** and **Transformers**.\n",
        "\n",
        "**Tokenization** is a way of separating a piece of text into smaller units called **tokens**. Here, tokens can be either words, characters, or subwords. Hence, tokenization can be broadly classified into 3 types – word, character, and subword (n-gram characters) tokenization.\n",
        "\n",
        "All the neural networks require to have inputs that have the same shape and size. **Padding** is the process by which we can add padding tokens at the start or end of a sentence to increase it's length upto the required size. If required, we can also drop some words to reduce to the specified length.\n",
        "\n",
        "\n",
        "* **Tokenizer:** Tokenizes the dataset into a list of tokens.\n",
        "* **pad_sequences:** Pads the tokenized data to a certain length.\n",
        "\n",
        "The **input_length** has been set to maximum length of the tweet. This will be the length after the data is tokenized and padded."
      ],
      "metadata": {
        "id": "TBMmq5ysx5Mo"
      }
    },
    {
      "cell_type": "code",
      "source": [
        "def find_maxleng(data):\n",
        "    #Finding the max_length\n",
        "    data['tweet_length'] = data.tweet.apply(lambda x:len(x.split()))\n",
        "    frequency = dict()\n",
        "    for i in data.tweet_length:\n",
        "        frequency[i] = frequency.get(i, 0)+1\n",
        "\n",
        "    plt.bar(frequency.keys(), frequency.values(), color =\"b\")\n",
        "    plt.xlim(1, 100)\n",
        "    # in this notbook color is not working but it should work.\n",
        "    plt.xlabel('Length of the Comments')\n",
        "    plt.ylabel('Frequency')\n",
        "    plt.title('Length-Frequency Distribution')\n",
        "    plt.show()\n",
        "    max_length = max(data.tweet_length)\n",
        "    print(f\"Maximum Length of a Comment: {max_length}\")\n",
        "    print(f\"Minimum Length of a Comment: {min(data.tweet_length)}\")\n",
        "    print(f\"Average Length of a Comment: {round(np.mean(data.tweet_length),0)}\")\n",
        "    return max_length"
      ],
      "metadata": {
        "id": "FinTF1m189lr"
      },
      "execution_count": null,
      "outputs": []
    },
    {
      "cell_type": "code",
      "source": [
        "# Defining the model input length.\n",
        "#input_length = 60\n",
        "input_length = find_maxleng(data)"
      ],
      "metadata": {
        "id": "vClFYYsNx9KI",
        "colab": {
          "base_uri": "https://localhost:8080/",
          "height": 366
        },
        "outputId": "eb28d979-392b-4470-e460-4b19826e1b70"
      },
      "execution_count": null,
      "outputs": [
        {
          "output_type": "display_data",
          "data": {
            "text/plain": [
              "<Figure size 432x288 with 1 Axes>"
            ],
            "image/png": "[encoded data removed]"
          },
          "metadata": {
            "needs_background": "light"
          }
        },
        {
          "output_type": "stream",
          "name": "stdout",
          "text": [
            "Maximum Length of a Comment: 49\n",
            "Minimum Length of a Comment: 1\n",
            "Average Length of a Comment: 8.0\n"
          ]
        }
      ]
    },
    {
      "cell_type": "code",
      "source": [
        "from tensorflow.keras.preprocessing.text import Tokenizer\n",
        "from tensorflow.keras.preprocessing.sequence import pad_sequences"
      ],
      "metadata": {
        "id": "Qa9IRuOp9dVW"
      },
      "execution_count": null,
      "outputs": []
    },
    {
      "cell_type": "markdown",
      "source": [
        "Defining the Tokenizer and fitting it on the training data. Here, we are tokenzing the data by spliting it up with the delimiter space ' '.\n",
        "\n",
        "Args in Tokenizer():\n",
        "\n",
        "filters: Characters to filter out from the sentences to tokenize.\n",
        "lower: True/False. Whether to lowerCase the sentence or not.\n",
        "oov_token: Out of Vocabulary token to put in for words which aren't in the tokenizer vocab.\n",
        "Filters and lower has been turned off because we've already done those steps during the preprocessing step."
      ],
      "metadata": {
        "id": "hGqPAhknyIzk"
      }
    },
    {
      "cell_type": "code",
      "source": [
        "vocab_length = 60000\n",
        "\n",
        "tokenizer = Tokenizer(filters=\"\", lower=False, oov_token=\"<oov>\")\n",
        "tokenizer.fit_on_texts(X_data)\n",
        "tokenizer.num_words = vocab_length\n",
        "print(\"Tokenizer vocab length:\", vocab_length)"
      ],
      "metadata": {
        "colab": {
          "base_uri": "https://localhost:8080/"
        },
        "id": "-HsO74DNx9S2",
        "outputId": "77008249-3216-4c66-bfa0-99b99acfd3a1"
      },
      "execution_count": null,
      "outputs": [
        {
          "output_type": "stream",
          "name": "stdout",
          "text": [
            "Tokenizer vocab length: 60000\n"
          ]
        }
      ]
    },
    {
      "cell_type": "markdown",
      "source": [
        "Tokenizing the X_train and X_test dataset and padding them to the length 'input_length'.\n",
        "\n",
        "The tokenized list is pre-padded, i.e padding tokens are added to the start. After padding, the length of the data would be equal to 'input_length'."
      ],
      "metadata": {
        "id": "xrt1l6m2yQ7J"
      }
    },
    {
      "cell_type": "code",
      "source": [
        "X_train = pad_sequences(tokenizer.texts_to_sequences(X_train), maxlen=input_length)\n",
        "X_test  = pad_sequences(tokenizer.texts_to_sequences(X_test) , maxlen=input_length)\n",
        "\n",
        "print(\"X_train.shape:\", X_train.shape)\n",
        "print(\"X_test.shape :\", X_test.shape)"
      ],
      "metadata": {
        "colab": {
          "base_uri": "https://localhost:8080/"
        },
        "id": "guctQXRJyOeS",
        "outputId": "602e4afe-df7a-4c5d-f433-f750fc1786d3"
      },
      "execution_count": null,
      "outputs": [
        {
          "output_type": "stream",
          "name": "stdout",
          "text": [
            "X_train.shape: (10260, 49)\n",
            "X_test.shape : (500, 49)\n"
          ]
        }
      ]
    },
    {
      "cell_type": "code",
      "source": [
        "embedding_matrix = np.zeros((vocab_length, Embedding_dimensions))\n",
        "\n",
        "for word, token in tokenizer.word_index.items():\n",
        "    if word2vec_model.wv.__contains__(word):\n",
        "        embedding_matrix[token] = word2vec_model.wv.__getitem__(word)\n",
        "\n",
        "print(\"Embedding Matrix Shape:\", embedding_matrix.shape)"
      ],
      "metadata": {
        "colab": {
          "base_uri": "https://localhost:8080/"
        },
        "id": "m9n4WfyMyfPa",
        "outputId": "bd73f7ba-153c-4a15-e0d7-f65bbf506b1c"
      },
      "execution_count": null,
      "outputs": [
        {
          "output_type": "stream",
          "name": "stdout",
          "text": [
            "Embedding Matrix Shape: (60000, 100)\n"
          ]
        }
      ]
    },
    {
      "cell_type": "markdown",
      "source": [
        "Creating the Model¶\n",
        "Creating a deeplearning Sequence model for the classification problem.\n",
        "\n",
        "Sequence model are very good at getting the context of a sentence, since it can understand the meaning rather than employ techniques like counting positive or negative words like in a Bag-of-Words model."
      ],
      "metadata": {
        "id": "7i-GbLqtyr6i"
      }
    },
    {
      "cell_type": "code",
      "source": [
        "from tensorflow.keras import Sequential\n",
        "from tensorflow.keras.layers import Bidirectional, GlobalMaxPool1D, Dense, LSTM, Conv1D, Embedding"
      ],
      "metadata": {
        "id": "EieAo-eeywau"
      },
      "execution_count": null,
      "outputs": []
    },
    {
      "cell_type": "markdown",
      "source": [
        "### Model Architecture\n",
        "\n",
        "1) **Embedding Layer:** Layer responsible for converting the tokens into their vector representation that is generated by Word2Vec model. We're using the predefined layer from Tensorflow in out model.\n",
        "\n",
        "**Arguments -**\n",
        "* **input_dim**: Size of the vocabulary.\n",
        "* **output_dim**: Dimension of the dense embedding.\n",
        "* **weights**: Initiazises the embedding matrix.\n",
        "* **trainable**: Specifies whether the layer is trainable or not.\n",
        "\n",
        "2) **Bidirectional:** Bidirectional wrapper for RNNs. It means the context are carried from both left to right and right to left in the wrapped RNN layer.\n",
        "\n",
        "3) **LSTM:** **Long Short Term Memory**, its a variant of **RNN** which has memory state cell to learn the context of words which are at further along the text to carry contextual meaning rather than just neighbouring words as in case of RNN. \n",
        "\n",
        "**Arguments -**\n",
        "* **units:** Positive integer, dimensionality of the output space.\n",
        "* **dropout:**  Fraction of the units to drop for the linear transformation of the inputs.\n",
        "* **return_sequence:** Whether to return the last output in the output sequence, or the full sequence.\n",
        "\n",
        "4) **Conv1D:** This layer creates a convolution kernel that is convolved with the layer input over a single dimension to produce a tensor of outputs.\n",
        "\n",
        "**Arguments -**\n",
        "* **filters:** The dimensionality of the output space (i.e. the number of output filters in the convolution).\n",
        "* **kernel_size:** Specifies the length of the 1D convolution window.\n",
        "* **activation:** Specifies the activation function to use. \n",
        "\n",
        "5) **GlobalMaxPool1D:** Downsamples the input representation by taking the maximum value over the different dimensions.\n",
        "\n",
        "\n",
        "6) **Dense:** Dense layer adds a fully connected layer in the model. The argument passed specifies the number of nodes in that layer.\n",
        "\n",
        "The last dense layer has the activation **\"Sigmoid\"**, which is used to transform the input to a number between 0 and 1. Sigmoid activations are generally used for binary classification."
      ],
      "metadata": {
        "id": "blq_Kuw2y5C0"
      }
    },
    {
      "cell_type": "code",
      "source": [
        "from tensorflow.keras.layers import BatchNormalization\n",
        "def getModel():\n",
        "    embedding_layer = Embedding(input_dim = vocab_length,\n",
        "                                output_dim = Embedding_dimensions,\n",
        "                                weights=[embedding_matrix],\n",
        "                                input_length=input_length,\n",
        "                                trainable=False)\n",
        "\n",
        "    model = Sequential([\n",
        "        embedding_layer,\n",
        "        Bidirectional(LSTM(100, dropout=0.3, return_sequences=True)),\n",
        "        Bidirectional(LSTM(100, dropout=0.3, return_sequences=True)),\n",
        "        Conv1D(100, 5, activation='relu'),\n",
        "        GlobalMaxPool1D(),\n",
        "        Dense(16, activation='relu'),\n",
        "        Dense(1, activation='sigmoid'),\n",
        "    ],\n",
        "\n",
        "    name=\"Sentiment_Model\")\n",
        "    return model"
      ],
      "metadata": {
        "id": "OPp9YYCUzEEZ"
      },
      "execution_count": null,
      "outputs": []
    },
    {
      "cell_type": "code",
      "source": [
        "training_model = getModel()\n",
        "training_model.summary()"
      ],
      "metadata": {
        "colab": {
          "base_uri": "https://localhost:8080/"
        },
        "id": "_uedXqrozJSC",
        "outputId": "b1af4913-1ff2-4bd5-e214-3f03e3066988"
      },
      "execution_count": null,
      "outputs": [
        {
          "output_type": "stream",
          "name": "stdout",
          "text": [
            "Model: \"Sentiment_Model\"\n",
            "_________________________________________________________________\n",
            " Layer (type)                Output Shape              Param #   \n",
            "=================================================================\n",
            " embedding (Embedding)       (None, 49, 100)           6000000   \n",
            "                                                                 \n",
            " bidirectional (Bidirectiona  (None, 49, 200)          160800    \n",
            " l)                                                              \n",
            "                                                                 \n",
            " bidirectional_1 (Bidirectio  (None, 49, 200)          240800    \n",
            " nal)                                                            \n",
            "                                                                 \n",
            " conv1d (Conv1D)             (None, 45, 100)           100100    \n",
            "                                                                 \n",
            " global_max_pooling1d (Globa  (None, 100)              0         \n",
            " lMaxPooling1D)                                                  \n",
            "                                                                 \n",
            " dense (Dense)               (None, 16)                1616      \n",
            "                                                                 \n",
            " dense_1 (Dense)             (None, 1)                 17        \n",
            "                                                                 \n",
            "=================================================================\n",
            "Total params: 6,503,333\n",
            "Trainable params: 503,333\n",
            "Non-trainable params: 6,000,000\n",
            "_________________________________________________________________\n"
          ]
        }
      ]
    },
    {
      "cell_type": "markdown",
      "source": [
        "##Training the Model\n",
        "\n"
      ],
      "metadata": {
        "id": "J_zvdOV_zPxN"
      }
    },
    {
      "cell_type": "markdown",
      "source": [
        "Model Callbacks\n",
        "\n",
        "Callbacks are objects that can perform actions at various stages of training (e.g. at the start or end of an epoch, before or after a single batch, etc).\n",
        "\n",
        "We can use callbacks to write TensorBoard logs after every batch of training, periodically save our model, stop training early or even to get a view on internal states and statistics during training.\n",
        "\n",
        "ReduceLROnPlateau: Reduces Learning Rate whenever the gain in performance metric specified stops improving.\n",
        "\n",
        "monitor: quantity to be monitored.\n",
        "patience: number of epochs with no improvement after which learning rate will be reduced.\n",
        "cooldown: number of epochs to wait before resuming normal operation after lr has been reduced.\n",
        "EarlyStopping: Stop training when a monitored metric has stopped improving.\n",
        "\n",
        "monitor: Quantity to be monitored.\n",
        "min_delta: Minimum change in the monitored quantity to qualify as an improvement, i.e. an absolute change of less than min_delta, will count as no improvement.\n",
        "patience: Number of epochs with no improvement after which training will be stopped.\n",
        "For more details on callbacks, check out the documentation on tensorflow."
      ],
      "metadata": {
        "id": "UgeoFSwczYbN"
      }
    },
    {
      "cell_type": "code",
      "source": [
        "from tensorflow.keras.callbacks import ReduceLROnPlateau, EarlyStopping\n",
        "\n",
        "callbacks = [ReduceLROnPlateau(monitor='val_loss', patience=5, cooldown=0),\n",
        "             EarlyStopping(monitor='val_accuracy', min_delta=1e-4, patience=5)]"
      ],
      "metadata": {
        "id": "78RVwEDcyyFT"
      },
      "execution_count": null,
      "outputs": []
    },
    {
      "cell_type": "markdown",
      "source": [
        "Model Compile\n",
        "\n",
        "The Model must be compiled to define the loss, metrics and optimizer. Defining the proper loss and metric is essential while training the model.\n",
        "\n",
        "Loss: We're using Binary Crossentropy. It is used when we have binary output categories. Check out this article on losses.\n",
        "\n",
        "Metric: We've selected Accuracy as it is one of the common evaluation metrics in classification problems when the category data is equal. Learn more about metrics here.\n",
        "\n",
        "Optimizer: We're using Adam, optimization algorithm for Gradient Descent. You can learn more about Adam here."
      ],
      "metadata": {
        "id": "IawRReCSzm-Q"
      }
    },
    {
      "cell_type": "code",
      "source": [
        "import keras\n",
        "training_model.compile(loss='binary_crossentropy', optimizer='adam', metrics=['accuracy'])\n",
        "# opt = keras.optimizers.Adam(learning_rate=1e-06)\n",
        "# training_model.compile(loss='binary_crossentropy', optimizer=opt, metrics=['accuracy'])\n"
      ],
      "metadata": {
        "id": "nS18svUKyyPx"
      },
      "execution_count": null,
      "outputs": []
    },
    {
      "cell_type": "markdown",
      "source": [
        "We'll now train our model using the **fit** method and store the output learning parameters in **history**, which can be used to plot out the learning curve.\n",
        "\n",
        "**Arguements:**\n",
        "* **batch_size:** Number of samples per gradient update. Increasing the batch_size speeds up the training.\n",
        "* **epochs:** Number of epochs to train the model. An epoch is an iteration over the entire x and y data provided.\n",
        "* **validation_split:** Float between 0 and 1. Fraction of the training data to be used as validation data. The model will set apart this fraction of the training data, will not train on it, and will evaluate the loss and any model metrics on this data at the end of each epoch\n",
        "* **callbacks:** List of callbacks to apply during training process.\n",
        "* **verbose:** 0, 1, or 2. Verbosity mode. 0 = silent, 1 = progress bar, 2 = one line per epoch."
      ],
      "metadata": {
        "id": "Hz6VSkycysHW"
      }
    },
    {
      "cell_type": "code",
      "source": [
        "history = training_model.fit(\n",
        "    X_train, y_train,\n",
        "    batch_size=1024,\n",
        "    epochs=12,\n",
        "    validation_split=0.1,\n",
        "    callbacks=callbacks,\n",
        "    verbose=1,shuffle=True,steps_per_epoch=8\n",
        ")"
      ],
      "metadata": {
        "colab": {
          "base_uri": "https://localhost:8080/"
        },
        "id": "M-BUH0Oyz1pG",
        "outputId": "8fa67767-0b02-4760-a5a8-ea2e617ff164"
      },
      "execution_count": null,
      "outputs": [
        {
          "output_type": "stream",
          "name": "stdout",
          "text": [
            "Epoch 1/12\n",
            "8/8 [==============================] - 45s 5s/step - loss: 0.5535 - accuracy: 0.8000 - val_loss: 1.5750 - val_accuracy: 0.0000e+00 - lr: 0.0010\n",
            "Epoch 2/12\n",
            "8/8 [==============================] - 29s 4s/step - loss: 0.4255 - accuracy: 0.8613 - val_loss: 1.6719 - val_accuracy: 0.1803 - lr: 0.0010\n",
            "Epoch 3/12\n",
            "8/8 [==============================] - 30s 4s/step - loss: 0.3760 - accuracy: 0.8784 - val_loss: 1.6590 - val_accuracy: 0.1793 - lr: 0.0010\n",
            "Epoch 4/12\n",
            "8/8 [==============================] - 32s 4s/step - loss: 0.3645 - accuracy: 0.8746 - val_loss: 1.2656 - val_accuracy: 0.2641 - lr: 0.0010\n",
            "Epoch 5/12\n",
            "8/8 [==============================] - 30s 4s/step - loss: 0.3587 - accuracy: 0.8809 - val_loss: 1.6827 - val_accuracy: 0.2515 - lr: 0.0010\n",
            "Epoch 6/12\n",
            "8/8 [==============================] - 34s 4s/step - loss: 0.3450 - accuracy: 0.8876 - val_loss: 1.5624 - val_accuracy: 0.2359 - lr: 0.0010\n",
            "Epoch 7/12\n",
            "8/8 [==============================] - 30s 4s/step - loss: 0.3422 - accuracy: 0.8855 - val_loss: 1.6592 - val_accuracy: 0.1832 - lr: 0.0010\n",
            "Epoch 8/12\n",
            "8/8 [==============================] - 30s 4s/step - loss: 0.3583 - accuracy: 0.8802 - val_loss: 1.4676 - val_accuracy: 0.2651 - lr: 0.0010\n",
            "Epoch 9/12\n",
            "8/8 [==============================] - 30s 4s/step - loss: 0.3474 - accuracy: 0.8835 - val_loss: 1.4964 - val_accuracy: 0.1959 - lr: 0.0010\n",
            "Epoch 10/12\n",
            "8/8 [==============================] - 32s 4s/step - loss: 0.3348 - accuracy: 0.8922 - val_loss: 1.5178 - val_accuracy: 0.2076 - lr: 1.0000e-04\n",
            "Epoch 11/12\n",
            "8/8 [==============================] - 34s 4s/step - loss: 0.3329 - accuracy: 0.8898 - val_loss: 1.7203 - val_accuracy: 0.2105 - lr: 1.0000e-04\n",
            "Epoch 12/12\n",
            "8/8 [==============================] - 30s 4s/step - loss: 0.3353 - accuracy: 0.8874 - val_loss: 1.6679 - val_accuracy: 0.2632 - lr: 1.0000e-04\n"
          ]
        }
      ]
    },
    {
      "cell_type": "code",
      "source": [
        "save_path = '/content/drive/MyDrive/Colab Notebooks/Models_v2/Save_models/BiLSTM'\n",
        "training_model.save(save_path)"
      ],
      "metadata": {
        "colab": {
          "base_uri": "https://localhost:8080/"
        },
        "id": "w5yoUKEj_emt",
        "outputId": "411a5663-bd78-48f6-a072-38f53581029c"
      },
      "execution_count": null,
      "outputs": [
        {
          "output_type": "stream",
          "name": "stderr",
          "text": [
            "WARNING:absl:Found untraced functions such as _jit_compiled_convolution_op, lstm_cell_1_layer_call_fn, lstm_cell_1_layer_call_and_return_conditional_losses, lstm_cell_2_layer_call_fn, lstm_cell_2_layer_call_and_return_conditional_losses while saving (showing 5 of 9). These functions will not be directly callable after loading.\n"
          ]
        }
      ]
    },
    {
      "cell_type": "markdown",
      "source": [
        "Evaluating Model\n",
        "\n",
        "Since our dataset is not skewed, i.e. it has equal number of Positive and Negative Predictions. We're choosing Accuracy as our evaluation metric. Furthermore, we're plotting the Confusion Matrix to get an understanding of how our model is performing on both classification types."
      ],
      "metadata": {
        "id": "GGURHOM7zybA"
      }
    },
    {
      "cell_type": "markdown",
      "source": [
        "Printing out the Learning curve\n",
        "\n",
        "Learning curves show the relationship between training set size and your chosen evaluation metric (e.g. RMSE, accuracy, etc.) on your training and validation sets. They can be an extremely useful tool when diagnosing your model performance, as they can tell you whether your model is suffering from bias or variance."
      ],
      "metadata": {
        "id": "Epd0kWfX0Jst"
      }
    },
    {
      "cell_type": "code",
      "source": [
        "acc,  val_acc  = history.history['accuracy'], history.history['val_accuracy']\n",
        "loss, val_loss = history.history['loss'], history.history['val_loss']\n",
        "epochs = range(len(acc))\n",
        "\n",
        "plt.plot(epochs, acc, 'b', label='Training acc')\n",
        "plt.plot(epochs, val_acc, 'r', label='Validation acc')\n",
        "plt.title('Training and validation accuracy')\n",
        "plt.legend()\n",
        "\n",
        "plt.figure()\n",
        "\n",
        "plt.plot(epochs, loss, 'b', label='Training loss')\n",
        "plt.plot(epochs, val_loss, 'r', label='Validation loss')\n",
        "plt.title('Training and validation loss')\n",
        "plt.legend()\n",
        "\n",
        "plt.show()"
      ],
      "metadata": {
        "colab": {
          "base_uri": "https://localhost:8080/",
          "height": 566
        },
        "id": "N86nrEsS0HAt",
        "outputId": "c7addfea-6b33-4ad2-85a4-9bd277aa36a9"
      },
      "execution_count": null,
      "outputs": [
        {
          "output_type": "display_data",
          "data": {
            "text/plain": [
              "<Figure size 432x288 with 1 Axes>"
            ],
            "image/png": "[encoded data removed]"
          },
          "metadata": {
            "needs_background": "light"
          }
        },
        {
          "output_type": "display_data",
          "data": {
            "text/plain": [
              "<Figure size 432x288 with 1 Axes>"
            ],
            "image/png": "[encoded data removed]"
          },
          "metadata": {
            "needs_background": "light"
          }
        }
      ]
    },
    {
      "cell_type": "markdown",
      "source": [
        "From the training curve we can conclude that our model doesn't have bias nor is it overfitting. The accuracy curve has flattened but is still rising, which means training for more epochs can yield better results.\n",
        "\n",
        "The Validation loss is lower than the training loss because the dropouts in LSTM aren't active while evaluating the model."
      ],
      "metadata": {
        "id": "5kjzZJkX0Wb8"
      }
    },
    {
      "cell_type": "code",
      "source": [
        "from sklearn.metrics import confusion_matrix, classification_report\n",
        "import seaborn as sns\n",
        "\n",
        "def ConfusionMatrix(y_pred, y_test):\n",
        "    # Compute and plot the Confusion matrix\n",
        "    cf_matrix = confusion_matrix(y_test, y_pred)\n",
        "\n",
        "    categories  = ['Negative','Positive']\n",
        "    group_names = ['True Neg','False Pos', 'False Neg','True Pos']\n",
        "    group_percentages = ['{0:.2%}'.format(value) for value in cf_matrix.flatten() / np.sum(cf_matrix)]\n",
        "\n",
        "    labels = [f'{v1}\\n{v2}' for v1, v2 in zip(group_names,group_percentages)]\n",
        "    labels = np.asarray(labels).reshape(2,2)\n",
        "\n",
        "    sns.heatmap(cf_matrix, annot = labels, cmap = 'Blues',fmt = '',\n",
        "                xticklabels = categories, yticklabels = categories)\n",
        "\n",
        "    plt.xlabel(\"Predicted values\", fontdict = {'size':14}, labelpad = 10)\n",
        "    plt.ylabel(\"Actual values\"   , fontdict = {'size':14}, labelpad = 10)\n",
        "    plt.title (\"Confusion Matrix\", fontdict = {'size':18}, pad = 20)"
      ],
      "metadata": {
        "id": "I4eVbTcv0HQf"
      },
      "execution_count": null,
      "outputs": []
    },
    {
      "cell_type": "code",
      "source": [
        "# Predicting on the Test dataset.\n",
        "y_pred = training_model.predict(X_test)"
      ],
      "metadata": {
        "id": "UTYNmGuhr4fC",
        "outputId": "c808dbc9-11e0-4701-bbb1-daafa7f04f15",
        "colab": {
          "base_uri": "https://localhost:8080/"
        }
      },
      "execution_count": null,
      "outputs": [
        {
          "output_type": "stream",
          "name": "stdout",
          "text": [
            "16/16 [==============================] - 3s 64ms/step\n"
          ]
        }
      ]
    },
    {
      "cell_type": "code",
      "source": [
        "# Predicting on the Test dataset.\n",
        "y_pred = training_model.predict(X_test)\n",
        "\n",
        "# Converting prediction to reflect the sentiment predicted.\n",
        "y_pred = np.where(y_pred>=0.5, 1, 0)\n",
        "\n",
        "\n",
        "\n",
        "c_matrix =confusion_matrix(y_test,y_pred)\n",
        "print(c_matrix)\n",
        "clr = classification_report(y_test,y_pred)\n",
        "print(clr)\n",
        "plt.figure(figsize=(8,8))\n",
        "sns.heatmap(c_matrix,annot=True, fmt='g', vmin=0, cbar=False, cmap='Blues')\n",
        "plt.xlabel(\"Predicted Value\")\n",
        "plt.ylabel(\"Actual Value\")\n",
        "plt.title(\"Confusion matrix\")\n",
        "plt.show()"
      ],
      "metadata": {
        "colab": {
          "base_uri": "https://localhost:8080/",
          "height": 732
        },
        "id": "4JMNsDpM0ktS",
        "outputId": "3c1c68de-16d1-4363-e334-c0f80d1027fa"
      },
      "execution_count": null,
      "outputs": [
        {
          "output_type": "stream",
          "name": "stdout",
          "text": [
            "16/16 [==============================] - 1s 69ms/step\n",
            "[[323  27]\n",
            " [107  43]]\n",
            "              precision    recall  f1-score   support\n",
            "\n",
            "           0       0.75      0.92      0.83       350\n",
            "           1       0.61      0.29      0.39       150\n",
            "\n",
            "    accuracy                           0.73       500\n",
            "   macro avg       0.68      0.60      0.61       500\n",
            "weighted avg       0.71      0.73      0.70       500\n",
            "\n"
          ]
        },
        {
          "output_type": "display_data",
          "data": {
            "text/plain": [
              "<Figure size 576x576 with 1 Axes>"
            ],
            "image/png": "[encoded data removed]"
          },
          "metadata": {
            "needs_background": "light"
          }
        }
      ]
    },
    {
      "cell_type": "markdown",
      "source": [
        "From the confusion matrix, it can be concluded that the model makes more False Negative predictions than positive. This means that the model is somewhat biased towards predicting negative sentiment."
      ],
      "metadata": {
        "id": "RNCAV8oz0znd"
      }
    },
    {
      "cell_type": "markdown",
      "source": [
        "### Classification Report"
      ],
      "metadata": {
        "id": "DUNYtHMH030x"
      }
    },
    {
      "cell_type": "code",
      "source": [
        "# Print the evaluation metrics for the dataset.\n",
        "print(classification_report(y_test, y_pred))"
      ],
      "metadata": {
        "colab": {
          "base_uri": "https://localhost:8080/"
        },
        "id": "bu2MgEhX07MR",
        "outputId": "87969017-0e12-4bcf-8be8-6f117c2fc9fa"
      },
      "execution_count": null,
      "outputs": [
        {
          "output_type": "stream",
          "name": "stdout",
          "text": [
            "              precision    recall  f1-score   support\n",
            "\n",
            "           0       0.75      0.92      0.83       350\n",
            "           1       0.61      0.29      0.39       150\n",
            "\n",
            "    accuracy                           0.73       500\n",
            "   macro avg       0.68      0.60      0.61       500\n",
            "weighted avg       0.71      0.73      0.70       500\n",
            "\n"
          ]
        }
      ]
    },
    {
      "cell_type": "markdown",
      "source": [
        "Using the classification report, we can see that that the model achieves nearly **83% Accuracy** after training for just **12 epochs.** "
      ],
      "metadata": {
        "id": "sN3-u7_P1A8E"
      }
    },
    {
      "cell_type": "markdown",
      "source": [
        "## <a id=\"12\">Saving the Model</a>\n",
        "\n",
        "We're saving the **tokenizer, Word2Vec and Tensorflow model** for use later.\n",
        "\n",
        "**Word2Vec model** has been saved as 2 different formats:\n",
        "1. **KeyedVectors:** KeyedVectors do not support further training. On the other hand, by shedding the internal data structures necessary for training, KeyedVectors offer a smaller RAM footprint and a simpler interface.\n",
        "2. **Full Word2Vec Model:** The Full Word2Vec model contains the model state to enable further training. Saving in this format enables us to update the Vectors later."
      ],
      "metadata": {
        "id": "kqLDH1Uy1Qeg"
      }
    },
    {
      "cell_type": "code",
      "source": [
        "# Saving Word2Vec-Model\n",
        "word2vec_model.wv.save('Word2Vec-twitter-100')\n",
        "word2vec_model.wv.save_word2vec_format('Word2Vec-twitter-100-trainable')\n",
        "\n",
        "# Saving the tokenizer\n",
        "with open('Tokenizer.pickle', 'wb') as file:\n",
        "    pickle.dump(tokenizer, file)\n",
        "\n",
        "# Saving the TF-Model.\n",
        "training_model.save('Sentiment-BiLSTM')\n",
        "training_model.save_weights(\"Model Weights/weights\")"
      ],
      "metadata": {
        "colab": {
          "base_uri": "https://localhost:8080/"
        },
        "id": "5FKxlyY31X0e",
        "outputId": "bd399843-0477-43ba-cf25-4ed8a89b9951"
      },
      "execution_count": null,
      "outputs": [
        {
          "output_type": "stream",
          "name": "stderr",
          "text": [
            "WARNING:absl:Found untraced functions such as _jit_compiled_convolution_op, lstm_cell_1_layer_call_fn, lstm_cell_1_layer_call_and_return_conditional_losses, lstm_cell_2_layer_call_fn, lstm_cell_2_layer_call_and_return_conditional_losses while saving (showing 5 of 9). These functions will not be directly callable after loading.\n"
          ]
        }
      ]
    }
  ]
}